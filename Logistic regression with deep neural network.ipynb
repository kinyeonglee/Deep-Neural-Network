{
 "cells": [
  {
   "cell_type": "markdown",
   "metadata": {},
   "source": [
    "# Logistic Regression with Deep neural network \n",
    "\n",
    "This project will be step-by-step building the neural network from scratch, including running forward and backward propagation and model optimization. "
   ]
  },
  {
   "cell_type": "markdown",
   "metadata": {},
   "source": [
    "# Importing libraries"
   ]
  },
  {
   "cell_type": "code",
   "execution_count": 1,
   "metadata": {},
   "outputs": [],
   "source": [
    "import pandas as pd\n",
    "import numpy as np\n",
    "from sklearn.model_selection import train_test_split\n",
    "import matplotlib.pyplot as plt\n",
    "from PIL import Image\n",
    "from scipy import ndimage\n",
    "import pickle"
   ]
  },
  {
   "cell_type": "markdown",
   "metadata": {},
   "source": [
    "# Define activation function\n",
    "In this project, we are going to use sigmoid and RELU (Rectified Linear Unit) activation functions."
   ]
  },
  {
   "cell_type": "code",
   "execution_count": 2,
   "metadata": {},
   "outputs": [],
   "source": [
    "def sigmoid(Z):\n",
    "    A = 1 / (1 + np.exp(-Z))\n",
    "    cache=Z\n",
    "    return A,cache\n",
    "\n",
    "def relu(Z):\n",
    "    A=np.maximum(0,Z)\n",
    "    cache = Z\n",
    "    return A,cache\n",
    "\n",
    "def sigmoid_backward(dA,cache):\n",
    "    Z=cache\n",
    "    s=1/(1+np.exp(-Z))\n",
    "    dZ=dA*s*(1-s) #s*(1-s) is the derivative of the function\n",
    "    return dZ\n",
    "\n",
    "def relu_backward(dA,cache):\n",
    "    Z=cache\n",
    "    dZ=np.array(dA,copy=True)\n",
    "    dZ[Z<=0]=0\n",
    "    return dZ"
   ]
  },
  {
   "cell_type": "markdown",
   "metadata": {},
   "source": [
    "# Create parameters (weights and bias)\n",
    "\n",
    "The two main parameters for neural network is the weights (w) and bias (b)"
   ]
  },
  {
   "cell_type": "code",
   "execution_count": 3,
   "metadata": {},
   "outputs": [],
   "source": [
    "def initialize_parameters_deep(layers_dims):\n",
    "    np.random.seed(1)\n",
    "    L=len(layers_dims)\n",
    "    parameters = {}\n",
    "    for l in range(1,L):\n",
    "        parameters['W' + str(l)] = np.random.randn(layers_dims[l], layers_dims[l - 1])/np.sqrt(layers_dims[l-1])\n",
    "        parameters[f'b{l}']=np.zeros((layers_dims[l],1))\n",
    "\n",
    "    return parameters"
   ]
  },
  {
   "cell_type": "markdown",
   "metadata": {},
   "source": [
    "# Forward Propagation\n",
    "## Linear function\n",
    "\n",
    "This linear function will compute the linear equation (weight*input+bias) which is a simple linear regression equation"
   ]
  },
  {
   "cell_type": "code",
   "execution_count": 4,
   "metadata": {},
   "outputs": [],
   "source": [
    "def linear_forward(A,W,b):\n",
    "    Z=np.dot(W,A)+b\n",
    "    cache=(A,W,b)\n",
    "    return Z,cache"
   ]
  },
  {
   "cell_type": "markdown",
   "metadata": {},
   "source": [
    "## Activate the linear function using activation functions (sigmoid and RELU)\n",
    "\n",
    "for layer 0 to n-1 where n=output layer, we use RELU function which is the maximum (0,Z) where Z=linear equation.    \n",
    "\n",
    "for the output layer, we use sigmoid function which is a commom activation function for logistic regression to activate the linear equation"
   ]
  },
  {
   "cell_type": "code",
   "execution_count": 5,
   "metadata": {},
   "outputs": [],
   "source": [
    "def linear_activation_forward(A_prev,W,b,activation):\n",
    "    Z, linear_cache = linear_forward(A_prev, W, b)\n",
    "    if activation=='sigmoid':\n",
    "        A,activation_cache=sigmoid(Z)\n",
    "    elif activation=='relu':\n",
    "        A,activation_cache=relu(Z)\n",
    "    cache=(linear_cache,activation_cache)\n",
    "    return A,cache\n"
   ]
  },
  {
   "cell_type": "markdown",
   "metadata": {},
   "source": [
    "## Compute the final output\n",
    "\n",
    "Now we put all functions together to finish our forward propagation and produce the output y-hat"
   ]
  },
  {
   "cell_type": "code",
   "execution_count": 6,
   "metadata": {},
   "outputs": [],
   "source": [
    "def L_model_forward(X,parameters):\n",
    "    caches=[]\n",
    "    A=X\n",
    "    L=len(parameters)//2\n",
    "    for l in range(1,L):\n",
    "        A_prev=A\n",
    "        A,cache=linear_activation_forward(A_prev,parameters[f'W{l}'],parameters[f'b{l}'],activation='relu')\n",
    "        caches.append(cache)\n",
    "    AL,cache=linear_activation_forward(A,parameters[f'W{L}'],parameters[f'b{L}'],activation='sigmoid')\n",
    "    caches.append(cache)\n",
    "    return AL,caches"
   ]
  },
  {
   "cell_type": "markdown",
   "metadata": {},
   "source": [
    "# Cost Function\n",
    "\n",
    "The cost is the average of the loss function which is  -(1 / m) * (np.dot(Y, np.log(AL).T) - np.dot(1 - Y, np.log(1 - AL).T))\n",
    "\n",
    "One of the goals for this project is to minimize the cost function so that the model is optimized"
   ]
  },
  {
   "cell_type": "code",
   "execution_count": 7,
   "metadata": {},
   "outputs": [],
   "source": [
    "def compute_cost(AL,Y):\n",
    "    m=Y.shape[1]\n",
    "    cost = (1. / m) * (-np.dot(Y, np.log(AL).T) - np.dot(1 - Y, np.log(1 - AL).T))\n",
    "    cost=np.squeeze(cost)\n",
    "    return cost"
   ]
  },
  {
   "cell_type": "markdown",
   "metadata": {},
   "source": [
    "# Backward propagation\n",
    "\n",
    "## Derivative of the sigmoid and RELU functions\n",
    "\n",
    "We reached to the output layer to compute the final output y-hat.\n",
    "\n",
    "Now, we will be computing the gradient descent to find the optimal weight and bias so that the cost function is minimized."
   ]
  },
  {
   "cell_type": "code",
   "execution_count": 8,
   "metadata": {},
   "outputs": [],
   "source": [
    "def linear_backward(dZ,cache):\n",
    "    A_prev,W,b=cache\n",
    "    m=A_prev.shape[1]\n",
    "    dW=np.dot(dZ,A_prev.T)/m\n",
    "    db=np.sum(dZ,axis=1,keepdims=True)/m\n",
    "    dA_prev=np.dot(W.T,dZ)\n",
    "    return dA_prev,dW,db"
   ]
  },
  {
   "cell_type": "markdown",
   "metadata": {},
   "source": [
    "## Backward linear activation\n",
    "\n",
    "This time we start from the output layer which was activated by a sigmoid function. \n",
    "\n",
    "Then we repeatedly compute the derivative of the RELU function form layer n-1 to the input layer where n=output layer."
   ]
  },
  {
   "cell_type": "code",
   "execution_count": 9,
   "metadata": {},
   "outputs": [],
   "source": [
    "def linear_activation_backward(dA,cache,activation):\n",
    "    linear_cache, activation_cache = cache  #linear_cache contain a,w,b #activation_cache contain Z\n",
    "    if activation=='sigmoid':\n",
    "        dZ=sigmoid_backward(dA,activation_cache)\n",
    "    elif activation=='relu':\n",
    "        dZ = relu_backward(dA, activation_cache)\n",
    "    dA_prev,dW,db=linear_backward(dZ,linear_cache)\n",
    "    return dA_prev,dW,db"
   ]
  },
  {
   "cell_type": "code",
   "execution_count": 10,
   "metadata": {},
   "outputs": [],
   "source": [
    "def L_model_backward(AL,Y,caches):\n",
    "    L=len(caches)\n",
    "    grads={}\n",
    "    m=AL.shape[1]\n",
    "    Y=Y.reshape(AL.shape)\n",
    "    dAL = - (np.divide(Y, AL) - np.divide(1 - Y, 1 - AL))\n",
    "    current_cache=caches[-1]\n",
    "    dA_prev,dW,db=linear_activation_backward(dAL,current_cache,activation='sigmoid')\n",
    "    grads[f'dA{L-1}']=dA_prev\n",
    "    grads[f'dW{L}']=dW\n",
    "    grads[f'db{L}'] = db\n",
    "    for l in reversed(range(L-1)):\n",
    "        current_cache=caches[l]\n",
    "        dA_prev_temp, dW_temp, db_temp = linear_activation_backward(grads[\"dA\" + str(l + 1)], current_cache,\n",
    "                                                                    activation=\"relu\")\n",
    "        grads[\"dA\" + str(l)] = dA_prev_temp\n",
    "        grads[\"dW\" + str(l + 1)] = dW_temp\n",
    "        grads[\"db\" + str(l + 1)] = db_temp\n",
    "    return grads"
   ]
  },
  {
   "cell_type": "markdown",
   "metadata": {},
   "source": [
    "# Finding the optimal weights and bias \n",
    "\n",
    "The following function will continuously update the parameters to find the global minimum for the cost function"
   ]
  },
  {
   "cell_type": "code",
   "execution_count": 11,
   "metadata": {},
   "outputs": [],
   "source": [
    "def update_parameters(params,grads,learning_rate):\n",
    "    parameters=params.copy()\n",
    "    L=len(parameters)//2\n",
    "    for l in range(L):\n",
    "        parameters[f'W{l+1}']-=learning_rate*grads['dW'+ str(l+1)]\n",
    "        parameters[f'b{l + 1}']-= learning_rate * grads['db' + str(l + 1)]\n",
    "    return parameters\n"
   ]
  },
  {
   "cell_type": "markdown",
   "metadata": {},
   "source": [
    "# Putting all together\n",
    "\n",
    "Now we have a model that iterates over 2500 times to gradually reduce the costs.\n",
    "\n",
    "The process for the \"for\" loop is the following:\n",
    "\n",
    "- Compute the final output using the parameters (w,b)\n",
    "- Compute the cost\n",
    "- Compute the gradients\n",
    "- updating the parameters (w,b) by subtracting the gradient*learning rate\n",
    "- repeat from step 1 with the new parameters (w,b)\n"
   ]
  },
  {
   "cell_type": "code",
   "execution_count": 31,
   "metadata": {},
   "outputs": [],
   "source": [
    "def L_layer_model(X,Y,layers_dims,learning_rate=0.0075,num_iterations=2500,print_cost=False):\n",
    "    costs=[]\n",
    "    parameters=initialize_parameters_deep(layers_dims)\n",
    "    for i in range(num_iterations):\n",
    "        AL,caches=L_model_forward(X,parameters)\n",
    "        cost=compute_cost(AL,Y)\n",
    "        grads=L_model_backward(AL,Y,caches)\n",
    "        parameters=update_parameters(parameters,grads,learning_rate)\n",
    "        if print_cost and i % 100 == 0 or i == num_iterations - 1:\n",
    "            print(\"Cost after iteration {}: {}\".format(i, np.squeeze(cost)))\n",
    "        if i % 100 == 0 or i == num_iterations:\n",
    "            costs.append(cost)\n",
    "\n",
    "    return parameters, costs"
   ]
  },
  {
   "cell_type": "code",
   "execution_count": 24,
   "metadata": {},
   "outputs": [],
   "source": [
    "def predict(X, y, parameters):\n",
    "    m = X.shape[1]\n",
    "    n = len(parameters) // 2  # number of layers in the neural network\n",
    "    p = np.zeros((1, m))\n",
    "\n",
    "    probas, caches = L_model_forward(X, parameters)\n",
    "\n",
    "    for i in range(0, probas.shape[1]):\n",
    "        if probas[0, i] > 0.5:\n",
    "            p[0, i] = 1\n",
    "        else:\n",
    "            p[0, i] = 0\n",
    "    print(\"Accuracy: \" + str(np.sum((p == y) / m)))\n",
    "\n",
    "    return p"
   ]
  },
  {
   "cell_type": "markdown",
   "metadata": {},
   "source": [
    "# Input file\n",
    "\n",
    "The dataset we're going to use is 'gender_df' which has every column=a (64*64*3) picture represented by an array with shape (64*64*3,1) and every row=number of examples in the dataset"
   ]
  },
  {
   "cell_type": "code",
   "execution_count": 33,
   "metadata": {},
   "outputs": [],
   "source": [
    "input_file=open('gender_df.dat','rb')\n",
    "gender_df=pickle.load(input_file,encoding='utf-8')"
   ]
  },
  {
   "cell_type": "markdown",
   "metadata": {},
   "source": [
    "# Isolate the y-variable"
   ]
  },
  {
   "cell_type": "code",
   "execution_count": 34,
   "metadata": {},
   "outputs": [],
   "source": [
    "y_orig=gender_df.iloc[12288].values\n",
    "gender_df.drop(12288,inplace=True)\n",
    "y=y_orig.reshape(1,y_orig.shape[0])"
   ]
  },
  {
   "cell_type": "markdown",
   "metadata": {},
   "source": [
    "# Spliting the dataset\n",
    "\n",
    "In order to use the train_test_split function, we need to make sure the x.shape[0]== y.shape[0].\n",
    "\n",
    "After running the function, we can use the transpose function to make x and y variables the correct shape\n",
    "\n",
    "test_x.shape= (12288,3011) # 12288 is the input array for the picture, 3011 is the numbers of example.\n",
    "\n",
    "test_y.shape= (1,3011) "
   ]
  },
  {
   "cell_type": "code",
   "execution_count": 35,
   "metadata": {},
   "outputs": [],
   "source": [
    "train_x_orig, test_x_orig, train_y, test_y = train_test_split(gender_df.values.T, y.T, test_size=0.20, random_state=42)\n",
    "train_x=train_x_orig.T/255\n",
    "test_x=test_x_orig.T/255\n",
    "train_y=train_y.T\n",
    "test_y=test_y.T"
   ]
  },
  {
   "cell_type": "code",
   "execution_count": 36,
   "metadata": {},
   "outputs": [
    {
     "name": "stdout",
     "output_type": "stream",
     "text": [
      "(12288, 3011)\n",
      "(12288, 753)\n",
      "(1, 3011)\n",
      "(1, 753)\n"
     ]
    }
   ],
   "source": [
    "print(train_x.shape)\n",
    "print(test_x.shape)\n",
    "print(train_y.shape)\n",
    "print(test_y.shape)"
   ]
  },
  {
   "cell_type": "markdown",
   "metadata": {},
   "source": [
    "# Train the model "
   ]
  },
  {
   "cell_type": "code",
   "execution_count": 37,
   "metadata": {},
   "outputs": [
    {
     "name": "stdout",
     "output_type": "stream",
     "text": [
      "Cost after iteration 0: 0.7032042616607062\n",
      "Cost after iteration 100: 0.6617295042647837\n",
      "Cost after iteration 200: 0.6483550511316007\n",
      "Cost after iteration 300: 0.6462529591903434\n",
      "Cost after iteration 400: 0.6288789748475334\n",
      "Cost after iteration 500: 0.6189668940945164\n",
      "Cost after iteration 600: 0.6121347565063447\n",
      "Cost after iteration 700: 0.602008819526481\n",
      "Cost after iteration 800: 0.5949677227778765\n",
      "Cost after iteration 900: 0.5909292710217064\n",
      "Cost after iteration 1000: 0.603763749910969\n",
      "Cost after iteration 1100: 0.6158665592332478\n",
      "Cost after iteration 1200: 0.571350441643209\n",
      "Cost after iteration 1300: 0.5646769510627622\n",
      "Cost after iteration 1400: 0.5566091729031344\n",
      "Cost after iteration 1500: 0.5512981634252667\n",
      "Cost after iteration 1600: 0.5443162978244599\n",
      "Cost after iteration 1700: 0.5352889527421228\n",
      "Cost after iteration 1800: 0.5315711692688355\n",
      "Cost after iteration 1900: 0.49405277944269826\n",
      "Cost after iteration 2000: 0.4879522831212466\n",
      "Cost after iteration 2100: 0.5740292250575438\n",
      "Cost after iteration 2200: 0.5449972897354944\n",
      "Cost after iteration 2300: 0.556323354144252\n",
      "Cost after iteration 2400: 0.45567967050962516\n",
      "Cost after iteration 2499: 0.43013082562756055\n"
     ]
    }
   ],
   "source": [
    "layers_dims=[train_x.shape[0],20,7,1]\n",
    "parameters, costs=L_layer_model(train_x,train_y,layers_dims,print_cost=True)"
   ]
  },
  {
   "cell_type": "code",
   "execution_count": null,
   "metadata": {},
   "outputs": [],
   "source": [
    "pred_train = predict(train_x,train_y,parameters)\n",
    "pred_test = predict(test_x, test_y, parameters)"
   ]
  },
  {
   "cell_type": "markdown",
   "metadata": {},
   "source": [
    "# Make a prediction with an image"
   ]
  },
  {
   "cell_type": "code",
   "execution_count": 44,
   "metadata": {},
   "outputs": [],
   "source": [
    "def single_predictiion(X, parameters):\n",
    "    m = X.shape[1]\n",
    "    n = len(parameters) // 2  # number of layers in the neural network\n",
    "\n",
    "    probas, caches = L_model_forward(X, parameters)\n",
    "    if probas > 0.5:\n",
    "        p='Male'\n",
    "    elif probas <=0.5:\n",
    "        p='Female'\n",
    "    return p"
   ]
  },
  {
   "cell_type": "code",
   "execution_count": 40,
   "metadata": {},
   "outputs": [
    {
     "data": {
      "text/plain": [
       "<matplotlib.image.AxesImage at 0x168005320a0>"
      ]
     },
     "execution_count": 40,
     "metadata": {},
     "output_type": "execute_result"
    },
    {
     "data": {
      "image/png": "[encoded data removed]",
      "text/plain": [
       "<Figure size 432x288 with 1 Axes>"
      ]
     },
     "metadata": {
      "needs_background": "light"
     },
     "output_type": "display_data"
    }
   ],
   "source": [
    "fname='timothy-barlin-FGaknWvNbBk-unsplash.jpg' \n",
    "image=np.array(Image.open(fname))\n",
    "plt.imshow(image)"
   ]
  },
  {
   "cell_type": "code",
   "execution_count": 45,
   "metadata": {},
   "outputs": [
    {
     "name": "stdout",
     "output_type": "stream",
     "text": [
      "The model predicts it is a Male picture!\n"
     ]
    }
   ],
   "source": [
    "image=np.array(Image.open(fname).resize((64, 64))) # conver the pixel into (64,64,3) format\n",
    "image=image/255 \n",
    "image1=image.reshape(image.shape[0]*image.shape[1]*image.shape[2],1)\n",
    "print(f'The model predicts it is a {single_predictiion(image1,parameters)} picture!')"
   ]
  }
 ],
 "metadata": {
  "kernelspec": {
   "display_name": "Python 3",
   "language": "python",
   "name": "python3"
  },
  "language_info": {
   "codemirror_mode": {
    "name": "ipython",
    "version": 3
   },
   "file_extension": ".py",
   "mimetype": "text/x-python",
   "name": "python",
   "nbconvert_exporter": "python",
   "pygments_lexer": "ipython3",
   "version": "3.8.5"
  }
 },
 "nbformat": 4,
 "nbformat_minor": 4
}
